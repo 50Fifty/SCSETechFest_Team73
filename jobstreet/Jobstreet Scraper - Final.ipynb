{
 "cells": [
  {
   "cell_type": "markdown",
   "id": "1481afda",
   "metadata": {},
   "source": [
    "## Install Required Libraries"
   ]
  },
  {
   "cell_type": "code",
   "execution_count": 1,
   "id": "64246f75",
   "metadata": {},
   "outputs": [],
   "source": [
    "# !pip install beautifulsoup4\n",
    "# !pip install selenium"
   ]
  },
  {
   "cell_type": "markdown",
   "id": "cd99cde3",
   "metadata": {},
   "source": [
    "## Import Required Libraries"
   ]
  },
  {
   "cell_type": "code",
   "execution_count": 2,
   "id": "b32f4aaf",
   "metadata": {},
   "outputs": [],
   "source": [
    "import pandas as pd \n",
    "from bs4 import BeautifulSoup \n",
    "from selenium.webdriver import Chrome\n",
    "import re \n",
    "import time\n",
    "import json\n",
    "import math"
   ]
  },
  {
   "cell_type": "code",
   "execution_count": 3,
   "id": "04e4aa67",
   "metadata": {
    "scrolled": false
   },
   "outputs": [
    {
     "name": "stderr",
     "output_type": "stream",
     "text": [
      "C:\\Users\\iansi\\AppData\\Local\\Temp/ipykernel_47156/1162306190.py:2: DeprecationWarning: executable_path has been deprecated, please pass in a Service object\n",
      "  driver = Chrome(executable_path=path)\n"
     ]
    }
   ],
   "source": [
    "path = \"\\jobstreet\\chromedriver_win32\"\n",
    "driver = Chrome(executable_path=path)\n",
    "base_url = \"https://www.jobstreet.com.sg/en/job-search/{}-jobs/{}/\""
   ]
  },
  {
   "cell_type": "markdown",
   "id": "34aacbc8",
   "metadata": {},
   "source": [
    "## Functions"
   ]
  },
  {
   "cell_type": "code",
   "execution_count": 4,
   "id": "39d3c04f",
   "metadata": {},
   "outputs": [],
   "source": [
    "def remove_html_tags(text):\n",
    "    \"\"\"Remove html tags from a string\"\"\"\n",
    "    import re\n",
    "    clean = re.compile('<.*?>')\n",
    "    return re.sub(clean, '', text)"
   ]
  },
  {
   "cell_type": "code",
   "execution_count": 5,
   "id": "75477b08",
   "metadata": {},
   "outputs": [],
   "source": [
    "def get_page_number(keyword):\n",
    "    #input: keyword for job_postings\n",
    "    #output: number of pages\n",
    "\n",
    "    url = base_url.format(keyword, 1)\n",
    "    driver.get(url)\n",
    "    soup = BeautifulSoup(driver.page_source, 'html.parser')\n",
    "\n",
    "    #Finds the number of search results (Page and Total)\n",
    "    result_text = soup.find(\"span\",{\"class\": \"sx2jih0 zcydq84u es8sxo0 es8sxo1 es8sxo21 _1d0g9qk4 es8sxo7\"})\n",
    "    \n",
    "    #Splits the search results into a list\n",
    "    results = result_text.text.split()\n",
    "    \n",
    "    #Replace comma from result and gets the total number of results returned\n",
    "    result = int(result_text.text.split()[-2].replace(',', ''))\n",
    "    \n",
    "    #Gets the number of pages\n",
    "    page_number = math.ceil(result/30)\n",
    "    \n",
    "    #Returns total number of pages\n",
    "    return page_number"
   ]
  },
  {
   "cell_type": "code",
   "execution_count": 6,
   "id": "85b18f62",
   "metadata": {},
   "outputs": [],
   "source": [
    "def job_page_scraper(link):\n",
    "\n",
    "    url = \"https://www.jobstreet.com.sg\"+link\n",
    "    print(\"scraping...\", url)\n",
    "    driver.get(url)\n",
    "    soup = BeautifulSoup(driver.page_source, 'html.parser')\n",
    "\n",
    "    scripts = soup.find_all(\"script\")\n",
    "\n",
    "    for script in scripts:\n",
    "        if script.contents:\n",
    "            txt = script.contents[0].strip()\n",
    "            if 'window.REDUX_STATE = ' in txt:\n",
    "                jsonStr = script.contents[0].strip()\n",
    "                jsonStr = jsonStr.split('window.REDUX_STATE = ')[1].strip()\n",
    "                jsonStr = jsonStr.split('}}}};')[0].strip()\n",
    "                jsonStr = jsonStr+\"}}}}\"\n",
    "                jsonObj = json.loads(jsonStr)\n",
    "    \n",
    "    job = jsonObj['details']\n",
    "    \n",
    "    if(job['id']!=''):\n",
    "        try:\n",
    "            job_salary_min = job['header']['salary']['min']\n",
    "            job_salary_max = job['header']['salary']['max']\n",
    "            job_salary_currency = job['header']['salary']['currency']\n",
    "        except Exception:\n",
    "            job_salary_min =''\n",
    "            job_salary_max = ''\n",
    "            job_salary_currency = ''\n",
    "\n",
    "        job_title = job['header']['jobTitle']\n",
    "        company = job['header']['company']['name']\n",
    "        job_post_date = job['header']['postedDate']\n",
    "        job_internship = job['header']['isInternship']\n",
    "        company_overview = job['companyDetail']['companyOverview']['html']\n",
    "        company_overview = remove_html_tags(company_overview)\n",
    "        job_description = job['jobDetail']['jobDescription']['html']\n",
    "        #Remove html tags\n",
    "        job_description = remove_html_tags(job_description)\n",
    "        job_requirement_career_level = job['jobDetail']['jobRequirement']['careerLevel']\n",
    "        job_requirement_yearsOfExperience = job['jobDetail']['jobRequirement']['yearsOfExperience']\n",
    "        job_requirement_qualification = job['jobDetail']['jobRequirement']['qualification']\n",
    "        job_employment_type = job['jobDetail']['jobRequirement']['employmentType']\n",
    "        job_apply_url = job['applyUrl']['url']\n",
    "        job_location = job['location'][0]['location']\n",
    "        job_country = job['sourceCountry']\n",
    "\n",
    "        return [job_title, job_salary_min, job_salary_max, job_salary_currency, company, job_post_date, job_internship, company_overview, job_description, job_requirement_career_level, job_requirement_yearsOfExperience, job_requirement_qualification, job_employment_type, job_apply_url, job_location, job_country]\n",
    "    else:\n",
    "        return []"
   ]
  },
  {
   "cell_type": "code",
   "execution_count": 7,
   "id": "82994095",
   "metadata": {},
   "outputs": [],
   "source": [
    "def page_crawler(keyword):\n",
    "    # input: keyword for job postings\n",
    "    # output: dataframe of links scraped from each page\n",
    "\n",
    "    # page number\n",
    "    page_number = get_page_number(keyword)\n",
    "    job_links = []\n",
    "\n",
    "    for n in range(page_number):\n",
    "        print('Loading page {} ...'.format(n+1))\n",
    "        url = base_url.format(keyword, n+1)\n",
    "        #Load URL\n",
    "        driver.get(url)\n",
    "        soup = BeautifulSoup(driver.page_source, 'html.parser')\n",
    "    \n",
    "        #extract all job links\n",
    "        links = soup.find_all('a',{'rel':'nofollow noopener noreferrer'})\n",
    "        job_links += links\n",
    " \n",
    "    jobs = []\n",
    "\n",
    "    for link in job_links:\n",
    "        job_link = link['href'].strip().split('?', 1)[0]\n",
    "        jobs.append(job_page_scraper(job_link))\n",
    "    \n",
    "    #Creates dataframe with jobs as values, and columns as column names\n",
    "    result_df = pd.DataFrame(jobs, columns = [\"job_title\", \"job_salary_min\", \"job_salary_max\", \"job_salary_currency\", \"company\", \"job_post_date\", \"job_internship\", \"company_overview\", \"job_description\", \"job_requirement_career_level\", \"job_requirement_yearsOfExperience\", \"job_requirement_qualification\", \"job_employment_type\", \"job_apply_url\", \"job_location\", \"job_country\"])\n",
    "    return result_df\n",
    "\n",
    "# def main():\n",
    "\n",
    "#     # a list of job roles to be crawled\n",
    "#     key_words = ['frontend ux developer morgan']\n",
    "#     dfs = []\n",
    "\n",
    "#     for key in key_words:\n",
    "#         key_df = page_crawler(key)\n",
    "#         dfs.append(key_df)\n",
    "\n",
    "#     # save scraped information as csv\n",
    "#     pd.concat(dfs).to_csv(\"job_postings_results.csv\")\n",
    "\n",
    "# if __name__ == '__main__':\n",
    "#     main()"
   ]
  },
  {
   "cell_type": "code",
   "execution_count": 8,
   "id": "46264692",
   "metadata": {
    "scrolled": false
   },
   "outputs": [
    {
     "name": "stdout",
     "output_type": "stream",
     "text": [
      "Enter Search Term: frontend ux developer DBS\n",
      "Loading page 1 ...\n",
      "scraping... https://www.jobstreet.com.sg/en/job/vp-avp-reactjs-developer-branch-and-self-serviced-banking-consumer-banking-group-technology-technology-operations-wd39175-jobsthatmatter-10327510\n",
      "scraping... https://www.jobstreet.com.sg/en/job/vp-avp-reactjs-developer-branch-and-self-serviced-banking-consumer-banking-group-technology-technology-operations-wd39175-jobsthatmatter.-10329892\n",
      "scraping... https://www.jobstreet.com.sg/en/job/full-stack-developer-1034134405\n",
      "scraping... https://www.jobstreet.com.sg/en/job/copywriter-1034392814\n"
     ]
    }
   ],
   "source": [
    "#Request keyword\n",
    "search_term = input(\"Enter Search Term: \")\n",
    "\n",
    "# a list of job roles to be crawled\n",
    "# key_words = ['frontend ux developer DBS']\n",
    "key_words = [search_term]\n",
    "dfs = []\n",
    "\n",
    "for key in key_words:\n",
    "    key_df = page_crawler(key)\n",
    "    dfs.append(key_df)"
   ]
  },
  {
   "cell_type": "code",
   "execution_count": 9,
   "id": "48afe08c",
   "metadata": {
    "scrolled": false
   },
   "outputs": [
    {
     "data": {
      "text/html": [
       "<div>\n",
       "<style scoped>\n",
       "    .dataframe tbody tr th:only-of-type {\n",
       "        vertical-align: middle;\n",
       "    }\n",
       "\n",
       "    .dataframe tbody tr th {\n",
       "        vertical-align: top;\n",
       "    }\n",
       "\n",
       "    .dataframe thead th {\n",
       "        text-align: right;\n",
       "    }\n",
       "</style>\n",
       "<table border=\"1\" class=\"dataframe\">\n",
       "  <thead>\n",
       "    <tr style=\"text-align: right;\">\n",
       "      <th></th>\n",
       "      <th>job_title</th>\n",
       "      <th>job_salary_min</th>\n",
       "      <th>job_salary_max</th>\n",
       "      <th>job_salary_currency</th>\n",
       "      <th>company</th>\n",
       "      <th>job_post_date</th>\n",
       "      <th>job_internship</th>\n",
       "      <th>company_overview</th>\n",
       "      <th>job_description</th>\n",
       "      <th>job_requirement_career_level</th>\n",
       "      <th>job_requirement_yearsOfExperience</th>\n",
       "      <th>job_requirement_qualification</th>\n",
       "      <th>job_employment_type</th>\n",
       "      <th>job_apply_url</th>\n",
       "      <th>job_location</th>\n",
       "      <th>job_country</th>\n",
       "    </tr>\n",
       "  </thead>\n",
       "  <tbody>\n",
       "    <tr>\n",
       "      <th>0</th>\n",
       "      <td>VP/AVP, ReactJS Developer, Branch and Self-ser...</td>\n",
       "      <td>None</td>\n",
       "      <td>None</td>\n",
       "      <td>SGD</td>\n",
       "      <td>DBS Bank Limited</td>\n",
       "      <td>10-Jan-23</td>\n",
       "      <td>False</td>\n",
       "      <td>DBS is a leading financial services group in A...</td>\n",
       "      <td>Business FunctionAs the leading bank in Asia, ...</td>\n",
       "      <td>Senior Manager</td>\n",
       "      <td>8 years</td>\n",
       "      <td>Bachelor's Degree, Post Graduate Diploma, Prof...</td>\n",
       "      <td>Full-Time</td>\n",
       "      <td>https://careers.dbs.com/careersection/dbs_prof...</td>\n",
       "      <td>Singapore</td>\n",
       "      <td>sg</td>\n",
       "    </tr>\n",
       "    <tr>\n",
       "      <th>1</th>\n",
       "      <td>VP/AVP, - ReactJS Developer, Branch and Self-s...</td>\n",
       "      <td>None</td>\n",
       "      <td>None</td>\n",
       "      <td>SGD</td>\n",
       "      <td>DBS Bank Limited</td>\n",
       "      <td>10-Jan-23</td>\n",
       "      <td>False</td>\n",
       "      <td>DBS is a leading financial services group in A...</td>\n",
       "      <td>Business FunctionAs the leading bank in Asia, ...</td>\n",
       "      <td>Senior Manager</td>\n",
       "      <td>8 years</td>\n",
       "      <td>Bachelor's Degree, Post Graduate Diploma, Prof...</td>\n",
       "      <td>Full-Time</td>\n",
       "      <td>https://careers.dbs.com/careersection/dbs_prof...</td>\n",
       "      <td>Singapore</td>\n",
       "      <td>sg</td>\n",
       "    </tr>\n",
       "    <tr>\n",
       "      <th>2</th>\n",
       "      <td>Full Stack Developer</td>\n",
       "      <td>None</td>\n",
       "      <td>None</td>\n",
       "      <td>SGD</td>\n",
       "      <td>Tow Me Sg Pte. Ltd.</td>\n",
       "      <td>1 minute ago</td>\n",
       "      <td>False</td>\n",
       "      <td></td>\n",
       "      <td>Full Stack Developer Job DescriptionAs the ful...</td>\n",
       "      <td>Not Specified</td>\n",
       "      <td></td>\n",
       "      <td>Not Specified</td>\n",
       "      <td>Full-Time</td>\n",
       "      <td>https://sg.jobsdb.com/job/rd/8216d70245e46abea...</td>\n",
       "      <td>Singapore</td>\n",
       "      <td>sg</td>\n",
       "    </tr>\n",
       "    <tr>\n",
       "      <th>3</th>\n",
       "      <td>Copywriter</td>\n",
       "      <td>None</td>\n",
       "      <td>None</td>\n",
       "      <td>SGD</td>\n",
       "      <td>DDB Worldwide Pte Ltd</td>\n",
       "      <td>14-Jan-23</td>\n",
       "      <td>False</td>\n",
       "      <td>About DDB Group Singapore – DDB Group is one o...</td>\n",
       "      <td>About DDB Group Singapore – DDB Group is one o...</td>\n",
       "      <td>Not Specified</td>\n",
       "      <td></td>\n",
       "      <td>Not Specified</td>\n",
       "      <td>Full-Time</td>\n",
       "      <td>https://sg.jobsdb.com/job/rd/f9cba4fc20187b8cc...</td>\n",
       "      <td>Kallang</td>\n",
       "      <td>sg</td>\n",
       "    </tr>\n",
       "  </tbody>\n",
       "</table>\n",
       "</div>"
      ],
      "text/plain": [
       "                                           job_title job_salary_min  \\\n",
       "0  VP/AVP, ReactJS Developer, Branch and Self-ser...           None   \n",
       "1  VP/AVP, - ReactJS Developer, Branch and Self-s...           None   \n",
       "2                               Full Stack Developer           None   \n",
       "3                                         Copywriter           None   \n",
       "\n",
       "  job_salary_max job_salary_currency                company job_post_date  \\\n",
       "0           None                 SGD       DBS Bank Limited     10-Jan-23   \n",
       "1           None                 SGD       DBS Bank Limited     10-Jan-23   \n",
       "2           None                 SGD    Tow Me Sg Pte. Ltd.  1 minute ago   \n",
       "3           None                 SGD  DDB Worldwide Pte Ltd     14-Jan-23   \n",
       "\n",
       "   job_internship                                   company_overview  \\\n",
       "0           False  DBS is a leading financial services group in A...   \n",
       "1           False  DBS is a leading financial services group in A...   \n",
       "2           False                                                      \n",
       "3           False  About DDB Group Singapore – DDB Group is one o...   \n",
       "\n",
       "                                     job_description  \\\n",
       "0  Business FunctionAs the leading bank in Asia, ...   \n",
       "1  Business FunctionAs the leading bank in Asia, ...   \n",
       "2  Full Stack Developer Job DescriptionAs the ful...   \n",
       "3  About DDB Group Singapore – DDB Group is one o...   \n",
       "\n",
       "  job_requirement_career_level job_requirement_yearsOfExperience  \\\n",
       "0               Senior Manager                           8 years   \n",
       "1               Senior Manager                           8 years   \n",
       "2                Not Specified                                     \n",
       "3                Not Specified                                     \n",
       "\n",
       "                       job_requirement_qualification job_employment_type  \\\n",
       "0  Bachelor's Degree, Post Graduate Diploma, Prof...           Full-Time   \n",
       "1  Bachelor's Degree, Post Graduate Diploma, Prof...           Full-Time   \n",
       "2                                      Not Specified           Full-Time   \n",
       "3                                      Not Specified           Full-Time   \n",
       "\n",
       "                                       job_apply_url job_location job_country  \n",
       "0  https://careers.dbs.com/careersection/dbs_prof...    Singapore          sg  \n",
       "1  https://careers.dbs.com/careersection/dbs_prof...    Singapore          sg  \n",
       "2  https://sg.jobsdb.com/job/rd/8216d70245e46abea...    Singapore          sg  \n",
       "3  https://sg.jobsdb.com/job/rd/f9cba4fc20187b8cc...      Kallang          sg  "
      ]
     },
     "execution_count": 9,
     "metadata": {},
     "output_type": "execute_result"
    }
   ],
   "source": [
    "key_df"
   ]
  },
  {
   "cell_type": "markdown",
   "id": "64cf5b68",
   "metadata": {},
   "source": [
    "## Convert to JSON"
   ]
  },
  {
   "cell_type": "code",
   "execution_count": 15,
   "id": "073fd732",
   "metadata": {},
   "outputs": [
    {
     "data": {
      "text/plain": [
       "{'job_title': 'VP/AVP, ReactJS Developer, Branch and Self-serviced Banking, Consumer Banking Group Technology, Technology & Operations - (WD39175) #JobsThatMatter #',\n",
       " 'job_salary_min': None,\n",
       " 'job_salary_max': None,\n",
       " 'job_salary_currency': 'SGD',\n",
       " 'company': 'DBS Bank Limited',\n",
       " 'job_post_date': '10-Jan-23',\n",
       " 'job_internship': False,\n",
       " 'company_overview': 'DBS is a leading financial services group in Asia, with over 280 branches across 18 markets. Headquartered and listed in Singapore, DBS has a growing presence in the three key Asian axes of growth: Greater China, Southeast Asia and South Asia. The bank\\'s \"AA-\" and \"Aa1\" credit ratings are among the highest in the world.DBS is at the forefront of leveraging digital technology to shape the future of banking, and has been named “World’s Best Digital Bank” by Euromoney in 2016 and 2018. The bank has also been recognised for its leadership in the region, having been named “Asia’s Best Bank” by several publications including The Banker, Global Finance, IFR Asia and Euromoney since 2012. In addition, the bank has been named “Safest Bank in Asia” by Global Finance for nine consecutive years from 2009 to 2017.DBS provides a full range of services in consumer, SME and corporate banking. As a bank born and bred in Asia, DBS understands the intricacies of doing business in the region’s most dynamic markets. DBS is committed to building lasting relationships with customers, and positively impacting communities through supporting social enterprises, as it banks the Asian way. It has also established a SGD 50 million foundation to strengthen its corporate social responsibility efforts in Singapore and across Asia.With its extensive network of operations in Asia and emphasis on engaging and empowering its staff, DBS presents exciting career opportunities. The bank acknowledges the passion, commitment and can-do spirit in all of its 26,000 staff, representing over 40 nationalities.',\n",
       " 'job_description': 'Business FunctionAs the leading bank in Asia, DBS Consumer Banking Group is in a unique position to help our customers realise their dreams and ambitions. As a market leader in the consumer banking business, DBS has a full spectrum of products and services, including deposits, investments, insurance, mortgages, credit cards and personal loans, to help our customers realise their dreams and aspirations at every life stage. Our financial solutions are not only the best in the business – they were made just right for you.We are looking for a passionate UI/UX Developer to work on our in-house Web Framework for crafting and assembling our next generation consumer experiences.Responsibilities:Analysis and interpretation of business requirements to functional and development specificationImplementation of web-based applications within all phases of the Software Development Life Cycle (SDLC)Drive components contribution and reusability across platformsUnderstand notion of Web and Mobile framework and how it applies to overall standardization and re-useWork as part of the squad and deliver in agile modelRequired skills:8+ years professional development experienceStrong communication to collaborate with stakeholders in all levels – (business, product, design, and development)Up-to-date knowledge of design software like Adobe Illustrator, Photoshop, and SketchHands on experience on at least two of the following JavaScript frameworksReactJS (highly preferred )EmberJSANGULAR (1.x or &gt;2)BackboneVueJSKnowledge of JavaScript and web technologies (HTML/CSS)Knowledge of Popular React.js workflows (such as Flux or Redux)Prior experience with data structure libraries (e.g., Immutable.js)Familiarity with modern front-end build pipelines and toolsExperience with common front-end development tools such as Babel, Webpack, NPM, etc.Ability to understand business requirements and translate them into technical requirementsA knack for benchmarking and optimizationTesting experience, ideally Cucumber, Cypress, Selenium or PACT.Demonstrable experience in Object Oriented JavaScript without the use of a library or frameworkMobile development experience a big plus',\n",
       " 'job_requirement_career_level': 'Senior Manager',\n",
       " 'job_requirement_yearsOfExperience': '8 years',\n",
       " 'job_requirement_qualification': \"Bachelor's Degree, Post Graduate Diploma, Professional Degree, Master's Degree, Doctorate (PhD)\",\n",
       " 'job_employment_type': 'Full-Time',\n",
       " 'job_apply_url': 'https://careers.dbs.com/careersection/dbs_professional_hires_career_section/jobdetail.ftl?job=WD39175&tz=GMT%2B08%3A00&tzname=Asia%2FManila',\n",
       " 'job_location': 'Singapore',\n",
       " 'job_country': 'sg'}"
      ]
     },
     "execution_count": 15,
     "metadata": {},
     "output_type": "execute_result"
    }
   ],
   "source": [
    "#Export as JSON\n",
    "key_df.to_json('dataframe2.json', orient='records')\n",
    "\n",
    "#Get as dictionary\n",
    "key_df3 = key_df.to_json(orient='records')\n",
    "result_dict = json.loads(key_df3)\n",
    "# result_dict[0]"
   ]
  },
  {
   "cell_type": "code",
   "execution_count": 14,
   "id": "0d16d861",
   "metadata": {},
   "outputs": [
    {
     "data": {
      "text/plain": [
       "'[{\"job_title\":\"VP\\\\/AVP, ReactJS Developer, Branch and Self-serviced Banking, Consumer Banking Group Technology, Technology & Operations - (WD39175) #JobsThatMatter #\",\"job_salary_min\":null,\"job_salary_max\":null,\"job_salary_currency\":\"SGD\",\"company\":\"DBS Bank Limited\",\"job_post_date\":\"10-Jan-23\",\"job_internship\":false,\"company_overview\":\"DBS is a leading financial services group in Asia, with over 280 branches across 18 markets. Headquartered and listed in Singapore, DBS has a growing presence in the three key Asian axes of growth: Greater China, Southeast Asia and South Asia. The bank\\'s \\\\\"AA-\\\\\" and \\\\\"Aa1\\\\\" credit ratings are among the highest in the world.DBS is at the forefront of leveraging digital technology to shape the future of banking, and has been named \\\\u201cWorld\\\\u2019s Best Digital Bank\\\\u201d by Euromoney in 2016 and 2018. The bank has also been recognised for its leadership in the region, having been named \\\\u201cAsia\\\\u2019s Best Bank\\\\u201d by several publications including The Banker, Global Finance, IFR Asia and Euromoney since 2012. In addition, the bank has been named \\\\u201cSafest Bank in Asia\\\\u201d by Global Finance for nine consecutive years from 2009 to 2017.DBS provides a full range of services in consumer, SME and corporate banking. As a bank born and bred in Asia, DBS understands the intricacies of doing business in the region\\\\u2019s most dynamic markets. DBS is committed to building lasting relationships with customers, and positively impacting communities through supporting social enterprises, as it banks the Asian way. It has also established a SGD 50 million foundation to strengthen its corporate social responsibility efforts in Singapore and across Asia.With its extensive network of operations in Asia and emphasis on engaging and empowering its staff, DBS presents exciting career opportunities. The bank acknowledges the passion, commitment and can-do spirit in all of its 26,000 staff, representing over 40 nationalities.\",\"job_description\":\"Business FunctionAs the leading bank in Asia, DBS Consumer Banking Group is in a unique position to help our customers realise their dreams and ambitions. As a market leader in the consumer banking business, DBS has a full spectrum of products and services, including deposits, investments, insurance, mortgages, credit cards and personal loans, to help our customers realise their dreams and aspirations at every life stage. Our financial solutions are not only the best in the business \\\\u2013 they were made just right for you.We are looking for a passionate UI\\\\/UX Developer to work on our in-house Web Framework for crafting and assembling our next generation consumer experiences.Responsibilities:Analysis and interpretation of business requirements to functional and development specificationImplementation of web-based applications within all phases of the Software Development Life Cycle (SDLC)Drive components contribution and reusability across platformsUnderstand notion of Web and Mobile framework and how it applies to overall standardization and re-useWork as part of the squad and deliver in agile modelRequired skills:8+ years professional development experienceStrong communication to collaborate with stakeholders in all levels \\\\u2013 (business, product, design, and development)Up-to-date knowledge of design software like Adobe Illustrator, Photoshop, and SketchHands on experience on at least two of the following JavaScript frameworksReactJS (highly preferred )EmberJSANGULAR (1.x or &gt;2)BackboneVueJSKnowledge of JavaScript and web technologies (HTML\\\\/CSS)Knowledge of Popular React.js workflows (such as Flux or Redux)Prior experience with data structure libraries (e.g., Immutable.js)Familiarity with modern front-end build pipelines and toolsExperience with common front-end development tools such as Babel, Webpack, NPM, etc.Ability to understand business requirements and translate them into technical requirementsA knack for benchmarking and optimizationTesting experience, ideally Cucumber, Cypress, Selenium or PACT.Demonstrable experience in Object Oriented JavaScript without the use of a library or frameworkMobile development experience a big plus\",\"job_requirement_career_level\":\"Senior Manager\",\"job_requirement_yearsOfExperience\":\"8 years\",\"job_requirement_qualification\":\"Bachelor\\'s Degree, Post Graduate Diploma, Professional Degree, Master\\'s Degree, Doctorate (PhD)\",\"job_employment_type\":\"Full-Time\",\"job_apply_url\":\"https:\\\\/\\\\/careers.dbs.com\\\\/careersection\\\\/dbs_professional_hires_career_section\\\\/jobdetail.ftl?job=WD39175&tz=GMT%2B08%3A00&tzname=Asia%2FManila\",\"job_location\":\"Singapore\",\"job_country\":\"sg\"},{\"job_title\":\"VP\\\\/AVP, - ReactJS Developer, Branch and Self-serviced Banking, Consumer Banking Group Technology, Technology & Operations - (WD39175) #JobsThatMatter.\",\"job_salary_min\":null,\"job_salary_max\":null,\"job_salary_currency\":\"SGD\",\"company\":\"DBS Bank Limited\",\"job_post_date\":\"10-Jan-23\",\"job_internship\":false,\"company_overview\":\"DBS is a leading financial services group in Asia, with over 280 branches across 18 markets. Headquartered and listed in Singapore, DBS has a growing presence in the three key Asian axes of growth: Greater China, Southeast Asia and South Asia. The bank\\'s \\\\\"AA-\\\\\" and \\\\\"Aa1\\\\\" credit ratings are among the highest in the world.DBS is at the forefront of leveraging digital technology to shape the future of banking, and has been named \\\\u201cWorld\\\\u2019s Best Digital Bank\\\\u201d by Euromoney in 2016 and 2018. The bank has also been recognised for its leadership in the region, having been named \\\\u201cAsia\\\\u2019s Best Bank\\\\u201d by several publications including The Banker, Global Finance, IFR Asia and Euromoney since 2012. In addition, the bank has been named \\\\u201cSafest Bank in Asia\\\\u201d by Global Finance for nine consecutive years from 2009 to 2017.DBS provides a full range of services in consumer, SME and corporate banking. As a bank born and bred in Asia, DBS understands the intricacies of doing business in the region\\\\u2019s most dynamic markets. DBS is committed to building lasting relationships with customers, and positively impacting communities through supporting social enterprises, as it banks the Asian way. It has also established a SGD 50 million foundation to strengthen its corporate social responsibility efforts in Singapore and across Asia.With its extensive network of operations in Asia and emphasis on engaging and empowering its staff, DBS presents exciting career opportunities. The bank acknowledges the passion, commitment and can-do spirit in all of its 26,000 staff, representing over 40 nationalities.\",\"job_description\":\"Business FunctionAs the leading bank in Asia, DBS Consumer Banking Group is in a unique position to help our customers realise their dreams and ambitions. As a market leader in the consumer banking business, DBS has a full spectrum of products and services, including deposits, investments, insurance, mortgages, credit cards and personal loans, to help our customers realise their dreams and aspirations at every life stage. Our financial solutions are not only the best in the business \\\\u2013 they were made just right for you.We are looking for a passionate UI\\\\/UX Developer to work on our in-house Web Framework for crafting and assembling our next generation consumer experiences.Responsibilities:Analysis and interpretation of business requirements to functional and development specificationImplementation of web-based applications within all phases of the Software Development Life Cycle (SDLC)Drive components contribution and reusability across platformsUnderstand notion of Web and Mobile framework and how it applies to overall standardization and re-useWork as part of the squad and deliver in agile modelRequired skills:8+ years professional development experienceStrong communication to collaborate with stakeholders in all levels \\\\u2013 (business, product, design, and development)Up-to-date knowledge of design software like Adobe Illustrator, Photoshop, and SketchHands on experience on at least two of the following JavaScript frameworksReactJS (highly preferred )EmberJSANGULAR (1.x or &gt;2)BackboneVueJSKnowledge of JavaScript and web technologies (HTML\\\\/CSS)Knowledge of Popular React.js workflows (such as Flux or Redux)Prior experience with data structure libraries (e.g., Immutable.js)Familiarity with modern front-end build pipelines and toolsExperience with common front-end development tools such as Babel, Webpack, NPM, etc.Ability to understand business requirements and translate them into technical requirementsA knack for benchmarking and optimizationTesting experience, ideally Cucumber, Cypress, Selenium or PACT.Demonstrable experience in Object Oriented JavaScript without the use of a library or frameworkMobile development experience a big plus\",\"job_requirement_career_level\":\"Senior Manager\",\"job_requirement_yearsOfExperience\":\"8 years\",\"job_requirement_qualification\":\"Bachelor\\'s Degree, Post Graduate Diploma, Professional Degree, Master\\'s Degree, Doctorate (PhD)\",\"job_employment_type\":\"Full-Time\",\"job_apply_url\":\"https:\\\\/\\\\/careers.dbs.com\\\\/careersection\\\\/dbs_professional_hires_career_section\\\\/jobdetail.ftl?job=WD39175&tz=GMT%2B08%3A00&tzname=Asia%2FManila\",\"job_location\":\"Singapore\",\"job_country\":\"sg\"},{\"job_title\":\"Full Stack Developer\",\"job_salary_min\":null,\"job_salary_max\":null,\"job_salary_currency\":\"SGD\",\"company\":\"Tow Me Sg Pte. Ltd.\",\"job_post_date\":\"1 minute ago\",\"job_internship\":false,\"company_overview\":\"\",\"job_description\":\"Full Stack Developer Job DescriptionAs the full-stack developer, you will help to level up the team\\\\u2019s competency with your valuable pastexperiences. You will drive, implement, deploy, maintain and operate products or key components ofthe products. You will work closely with different teams to deliver the best possible and impactfulsolutions for our entire suite of products.If you are looking for opportunities to collaborate with leading industry experts and be surrounded byhighly motivated and talented peers, we welcome you to join us. Make a difference by taking up thekey role and be part of the passionate and inspirational team.Job Requirements\\\\u25cf Create user-friendly and intuitive interfaces\\\\u25cf Maintain and improve backend system and API that connects with our front-end clients aswell as partners\\\\u2019 systems\\\\u25cf Optimize applications for maximum speed\\\\u25cf Design mobile-based features\\\\u25cf Collaborate with mobile developers and UI\\\\/UX designers to improve usability\\\\u25cf Get feedback from, and build solutions for, users and customers\\\\u25cf Write functional requirement documents and guides\\\\u25cf Maintain user guides and technical documentations\\\\u25cf Help with debugging and system testing\\\\u25cf Stay up-to-date on emerging technologies\\\\u25cf Ensure all parts in the system are secured to prevent from hackers\\\\u2019 attacks and unauthorizedaccess of data\\\\u25cf Drive the development team in building reusable and extensible services\\\\u25cf Ensure high performance and utility of services\\\\u25cf Advocate and practice agile principles in software development\\\\u25cf Design and build services with a focus on business value and usability\\\\u25cf Design systems with scalability and flexibility in mind\\\\u25cf Embrace and ensure \\\\u201clean operations\\\\u201d for all system\\\\u25cf May perform other additional duties and responsibilities as assignedSkills\\\\u25cf Proven work experience of 3-5 years as a Full Stack Developer\\\\u25cf Experience with both front-end and back-end development\\\\u25cf Experience with JavaScript and CSS is needed\\\\u25cf Experience with PHP and Relational Databse is needed\\\\u25cf Knowledge of working with SQL and NoSQL DBs, writing custom queries and designingschemas is needed\\\\u25cf Knowledge of system administration systems such as Linux, Docker, and AWS (EC2, S3,RDS) is needed\\\\u25cfExperience with Cloud hosting or PaaS such as AWS, Azure, Google Cloud, Heroku,Firebase, etc is needed\\\\u25cfKnowledge of integration with RESTful APIs for different solutions or databases is needed\\\\u25cfKnowledge of payment platforms and highly complex systems is needed\\\\u25cfKnowledge of test-driven development (TDD) and the desire to write tests is needed\\\\u25cfExperience with unit testing and regression testing is needed\\\\u25cfExperience with micro-service architecture is needed\\\\u25cfExperience with application security and application compliance is needed\\\\u25cfExperience with commercial software development and may have built modular scalablesystems is needed\\\\u25cf An ability to perform well in a fast-paced environment\\\\u25cfExcellent analytical and multitasking skills\\\\u25cf Able to receive constructive feedback\\\\u25cfFamiliar with Continuous Delivery approach mindset\\\\u25cf BSc degree in Computer Science or relevant fieldCharacteristics\\\\u25cfInterested in Tech\\\\u25cfPassionate about product and user experience\\\\u25cfEnergetic\\\\u25cfOrganized\\\\u25cfResponsible\\\\u25cfResponsive\\\\u25cfProactive\\\\u25cfResourceful\\\\u25cf Detail oriented\\\\u25cfCommunicative\\\\u25cf Collaborative\\\\u25cf Able to work in a cross-functional service team consisting of software engineers, DevOps,and other specialists-\",\"job_requirement_career_level\":\"Not Specified\",\"job_requirement_yearsOfExperience\":\"\",\"job_requirement_qualification\":\"Not Specified\",\"job_employment_type\":\"Full-Time\",\"job_apply_url\":\"https:\\\\/\\\\/sg.jobsdb.com\\\\/job\\\\/rd\\\\/8216d70245e46abea53768e065e14cf4?js=1\",\"job_location\":\"Singapore\",\"job_country\":\"sg\"},{\"job_title\":\"Copywriter\",\"job_salary_min\":null,\"job_salary_max\":null,\"job_salary_currency\":\"SGD\",\"company\":\"DDB Worldwide Pte Ltd\",\"job_post_date\":\"14-Jan-23\",\"job_internship\":false,\"company_overview\":\"About DDB Group Singapore \\\\u2013\\\\u00a0DDB Group is one of the biggest global advertising networks with offices in over 90 countries. Singapore is the regional hub for global, regional and local clients such as Exxon, Unilever, OPPO, Samsung, Tencent and DBS Bank. It comprises DDB and its specialist T-divisions in digital, data, e-commerce and brand research. We combine market intelligence with human insights to produce exceptional marketing for our clients\\\\u2019 business advantage. We are the regional headquarters for the network across Asia. \",\"job_description\":\"About DDB Group Singapore \\\\u2013 DDB Group is one of the biggest global advertising networks with offices in over 90 countries. Singapore is the regional hub for global, regional and local clients such as Exxon, Unilever, OPPO, Samsung, Tencent and DBS Bank. It comprises DDB and its specialist T-divisions in digital, data, e-commerce and brand research. We combine market intelligence with human insights to produce exceptional marketing for our clients\\\\u2019 business advantage. We are the regional headquarters for the network across Asia.CopywriterTribal Worldwide is a full-service interactive agency that focuses on across the board front-end digital solutions from web to mobile and beyond. Tribal Worldwide is committed towards creating digital solutions through original digital marketing programmes which generate compelling experience for the end-user. First founded in 2001 as a division of DDB Group Singapore, Tribal Worldwide is one of the 35 Tribal Worldwide\\\\u2019s offices spanning 21 countries.ScopeSome people think Copywriters are just wordsmiths. But at Tribal Worldwide, we\\\\u2019re looking for much more. You\\\\u2019ve got to be a contortionist \\\\u2013 flexible enough to role-play anything from chocolate bars to luxury cars. To speak to anyone, anywhere, from bus-stop posters to YouTube pre-rolls. To bend and not break as you birth the next big idea. Sounds like your kind of freak show? There\\\\u2019s more.Primary ResponsibilitiesLiaise with clients and interpret their briefsDevelop creative ideas and concepts across a range of media (TVC, radio, digital, social, OOH, activation etc.) together with the Art DirectorPresent ideas to colleagues and clientsBe familiar with your clients\\\\u2019 products and services, the target audience and their competitors\\\\u2019 activitiesWrite clear, persuasive, original copyBe in-sync with the trends in technology and digital mediaProofread copy to check spelling and grammarContinually revise or re-develop advertisements or campaigns in response to feedback from the Creative Director, account servicing team or clientsOversee campaigns through the production stage to completionWork on several campaigns at once, sometimes under pressure and often with tight deadlinesCast actors and voice talents for TV and radio productionLiaise with production companies, developers, photographers, typographers, designers and printersKeep up to date with popular culture and trendsMonitor the effectiveness of advertising campaigns-\",\"job_requirement_career_level\":\"Not Specified\",\"job_requirement_yearsOfExperience\":\"\",\"job_requirement_qualification\":\"Not Specified\",\"job_employment_type\":\"Full-Time\",\"job_apply_url\":\"https:\\\\/\\\\/sg.jobsdb.com\\\\/job\\\\/rd\\\\/f9cba4fc20187b8cc3d64d9dabc68de6?js=1\",\"job_location\":\"Kallang\",\"job_country\":\"sg\"}]'"
      ]
     },
     "execution_count": 14,
     "metadata": {},
     "output_type": "execute_result"
    }
   ],
   "source": [
    "key_df3"
   ]
  },
  {
   "cell_type": "code",
   "execution_count": null,
   "id": "bf577d27",
   "metadata": {},
   "outputs": [],
   "source": []
  }
 ],
 "metadata": {
  "kernelspec": {
   "display_name": "Python 3 (ipykernel)",
   "language": "python",
   "name": "python3"
  },
  "language_info": {
   "codemirror_mode": {
    "name": "ipython",
    "version": 3
   },
   "file_extension": ".py",
   "mimetype": "text/x-python",
   "name": "python",
   "nbconvert_exporter": "python",
   "pygments_lexer": "ipython3",
   "version": "3.9.7"
  }
 },
 "nbformat": 4,
 "nbformat_minor": 5
}
